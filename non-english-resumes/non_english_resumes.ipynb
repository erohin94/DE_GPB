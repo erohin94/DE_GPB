{
  "nbformat": 4,
  "nbformat_minor": 0,
  "metadata": {
    "colab": {
      "provenance": [],
      "collapsed_sections": [
        "5Lv1GJyB9vKq",
        "ysQo6DCFFjNk",
        "2hSTjIWKaAXQ",
        "f4zDUGuH9ws9"
      ]
    },
    "kernelspec": {
      "name": "python3",
      "display_name": "Python 3"
    },
    "language_info": {
      "name": "python"
    }
  },
  "cells": [
    {
      "cell_type": "markdown",
      "source": [
        "# Установка библиотеки"
      ],
      "metadata": {
        "id": "5Lv1GJyB9vKq"
      }
    },
    {
      "cell_type": "code",
      "source": [
        "pip install langdetect"
      ],
      "metadata": {
        "id": "Fhn6JehEMEqf",
        "colab": {
          "base_uri": "https://localhost:8080/"
        },
        "outputId": "3a6fa50d-942c-4200-daa1-27acdb6209f1"
      },
      "execution_count": null,
      "outputs": [
        {
          "output_type": "stream",
          "name": "stdout",
          "text": [
            "Collecting langdetect\n",
            "  Downloading langdetect-1.0.9.tar.gz (981 kB)\n",
            "\u001b[?25l     \u001b[90m━━━━━━━━━━━━━━━━━━━━━━━━━━━━━━━━━━━━━━━━\u001b[0m \u001b[32m0.0/981.5 kB\u001b[0m \u001b[31m?\u001b[0m eta \u001b[36m-:--:--\u001b[0m\r\u001b[2K     \u001b[91m━━━━━━━━━━━━━━━━━━━━━━━━━━━━━━━━━━━━━\u001b[0m\u001b[91m╸\u001b[0m \u001b[32m972.8/981.5 kB\u001b[0m \u001b[31m29.2 MB/s\u001b[0m eta \u001b[36m0:00:01\u001b[0m\r\u001b[2K     \u001b[90m━━━━━━━━━━━━━━━━━━━━━━━━━━━━━━━━━━━━━━\u001b[0m \u001b[32m981.5/981.5 kB\u001b[0m \u001b[31m19.1 MB/s\u001b[0m eta \u001b[36m0:00:00\u001b[0m\n",
            "\u001b[?25h  Preparing metadata (setup.py) ... \u001b[?25l\u001b[?25hdone\n",
            "Requirement already satisfied: six in /usr/local/lib/python3.12/dist-packages (from langdetect) (1.17.0)\n",
            "Building wheels for collected packages: langdetect\n",
            "  Building wheel for langdetect (setup.py) ... \u001b[?25l\u001b[?25hdone\n",
            "  Created wheel for langdetect: filename=langdetect-1.0.9-py3-none-any.whl size=993223 sha256=5665045bc938f6810b37177dcb54232adddd29a798fb910e701df36029e1424b\n",
            "  Stored in directory: /root/.cache/pip/wheels/c1/67/88/e844b5b022812e15a52e4eaa38a1e709e99f06f6639d7e3ba7\n",
            "Successfully built langdetect\n",
            "Installing collected packages: langdetect\n",
            "Successfully installed langdetect-1.0.9\n"
          ]
        }
      ]
    },
    {
      "cell_type": "markdown",
      "source": [
        "# Тесты"
      ],
      "metadata": {
        "id": "ysQo6DCFFjNk"
      }
    },
    {
      "cell_type": "code",
      "source": [
        "import re\n",
        "\n",
        "text = \"Менеджер Manager й q e ,fhvty бармен\"\n",
        "print(re.findall(r\"[а-яё]\", text.lower())) # Разбивает предложение на буквы\n",
        "print(re.findall(r\"[a-z]\", text.lower()))"
      ],
      "metadata": {
        "colab": {
          "base_uri": "https://localhost:8080/"
        },
        "id": "vPnWWiejFmmz",
        "outputId": "78fe0291-bfaf-48da-bc7b-65bc3aae2478"
      },
      "execution_count": 33,
      "outputs": [
        {
          "output_type": "stream",
          "name": "stdout",
          "text": [
            "['м', 'е', 'н', 'е', 'д', 'ж', 'е', 'р', 'й', 'б', 'а', 'р', 'м', 'е', 'н']\n",
            "['m', 'a', 'n', 'a', 'g', 'e', 'r', 'q', 'e', 'f', 'h', 'v', 't', 'y']\n"
          ]
        }
      ]
    },
    {
      "cell_type": "code",
      "source": [
        "# Тест\n",
        "import re\n",
        "\n",
        "#text =  \"h\"*80 + \"я\"*20\n",
        "#text =  \"\"\n",
        "#text = \"Менеджер Manager Administrator\"\n",
        "text = \"\"\"\n",
        "KYC specialist/Customer care specialist KYC аналитик контроль соблюдения требований KYC (Know Your Customer),\n",
        "проведение идентификации клиентов, представителей клиента,\n",
        "выгодоприобретателей и бенефициарных владельцев в целях\n",
        "выполнения требований Положения Банка России № 499-П;\n",
        "согласование клиентов при приеме на обслуживание в банк,\n",
        "а также в рамках процедуры периодического обновления сведений;проведение\n",
        "проверок потенциальных клиентов, в том числе, с использованием интернет-ресурсов\n",
        "и других источников информации;консультация бизнес-подразделений по вопросам идентификации;\n",
        "участие в проверках ЦБ РФ Senior KYC/CS specialist - Client support via chats,\n",
        "Zendesk, communication with our new and existing customers- Work in 1C with different\n",
        "request types, comprehensive customer support via ticket system- Review new customer accounts\n",
        "and verify their identities (via Onfido, Equifax, Idology)- Assist in efforts to prevent money laundering,\n",
        "terrorist financing and illicit financial activities- Prepare suspicious activity reports (SARs)-\n",
        "Assess the risks associated with customers- Study trends and evaluate customer behaviour-\n",
        "Maintain the policy, process, and procedures documentation- Review customer accounts for suspicious financial transactions -\n",
        "Maintenance of Service Levels in Zendesk (response times and resolution times) KAS Specialist -\n",
        "Achieving monthly sales and collection targets- Negotiating and finalizing business development agreement with the Customer-\n",
        "Plan/execute the brand activations for the customer- Control of the credit notes/money\n",
        "collections and making sure raising credit notes on time Junior Depository Specialist -\n",
        "making payments on securities (checking the received amounts of income,\n",
        "distribution of payments due);calculation of taxes, preparation of tax reports on payments;-\n",
        "conclusion and maintenance of depository and other agreements, opening and maintaining of\n",
        "depot accounts and otheraccounts intended for the implementation of depository activities.-\n",
        "interaction with higher-level depositories/registrars- preparation of reports on payments,\n",
        "responding to customer requests, authorized bodies on payments made.\n",
        "\"\"\"\n",
        "\n",
        "text = text.lower()\n",
        "count_rus = len(re.findall(r\"[а-яё]\", text))\n",
        "count_eng = len(re.findall(r\"[a-z]\", text))\n",
        "count_all = len(re.findall(r\"[а-яёa-z]\", text))\n",
        "\n",
        "print('Всего символов: ', count_all)\n",
        "print('Всего символов на англ: ', count_eng)\n",
        "print('Всего символов на рус: ', count_rus)\n",
        "print('Процент англ символов: ', count_eng/count_all)\n",
        "print('Процент рус символов: ', count_rus/count_all)\n",
        "\n",
        "if count_all == 0:\n",
        "  print(\"unknown\")\n",
        "elif count_eng/count_all >= 0.8:\n",
        "    print(\"eng\")\n",
        "else:\n",
        "    print(\"rus\")"
      ],
      "metadata": {
        "colab": {
          "base_uri": "https://localhost:8080/"
        },
        "id": "megsgHDFGXZE",
        "outputId": "153f5090-5260-40cf-efff-42cecaa3decc"
      },
      "execution_count": 46,
      "outputs": [
        {
          "output_type": "stream",
          "name": "stdout",
          "text": [
            "Всего символов:  1823\n",
            "Всего символов на англ:  1361\n",
            "Всего символов на рус:  462\n",
            "Процент англ символов:  0.7465715852989577\n",
            "Процент рус символов:  0.2534284147010422\n",
            "rus\n"
          ]
        }
      ]
    },
    {
      "cell_type": "markdown",
      "source": [
        "# Первоначальная функция, с использованием langdetect"
      ],
      "metadata": {
        "id": "2hSTjIWKaAXQ"
      }
    },
    {
      "cell_type": "code",
      "source": [
        "from langdetect import detect\n",
        "\n",
        "def search_english_resume(resume_json: dict) -> bool:\n",
        "    \"\"\"\n",
        "    Определение, резюме на англиском через langdetect.\n",
        "    Возвращает True, если резюме на английском.\n",
        "    \"\"\"\n",
        "    text_fields = []\n",
        "\n",
        "    if \"title\" in resume_json:\n",
        "        text_fields.append(resume_json[\"title\"])\n",
        "\n",
        "    if \"experience\" in resume_json:\n",
        "        for job in resume_json[\"experience\"]:\n",
        "            if \"position\" in job:\n",
        "                text_fields.append(job[\"position\"])\n",
        "            if \"description\" in job and job[\"description\"]:\n",
        "                text_fields.append(job[\"description\"])\n",
        "\n",
        "    full_text = \" \".join([t for t in text_fields if t])\n",
        "    print(full_text)\n",
        "    if not full_text.strip():\n",
        "        print(False)\n",
        "\n",
        "    try:\n",
        "        return detect(full_text) != \"ru\"\n",
        "    except:\n",
        "        return False"
      ],
      "metadata": {
        "id": "qbgC0yHQWQJI"
      },
      "execution_count": null,
      "outputs": []
    },
    {
      "cell_type": "code",
      "source": [
        "resumes_json = [{\n",
        "  'id': '685e5a6a000c57368900000d3c44314e786d4e',\n",
        "  'last_name': None,\n",
        " 'first_name': None,\n",
        " 'middle_name': None,\n",
        " 'title': 'Начинающий специалист', #'Начинающий специалист A novice specialist'\n",
        " 'experience': [{'start': '2023-06-02',\n",
        "                 'end': '2023-08-02',\n",
        "                 'company': 'Smoky Bro',\n",
        "                 'company_id': '1898857',\n",
        "                 'industry': None,\n",
        "                 'industries': [],\n",
        "                 'area': None, 'company_url': None,\n",
        "                 'employer': {'id': '4839077', 'name': 'Smoky Bro', 'url': 'https://api.hh.ru/employers/4839077', 'alternate_url': 'https://hh.ru/employer/4839077', 'logo_urls': None},\n",
        "                 'position': 'Продавец',\n",
        "                 'description': 'Тестовое поле описания опыта'}],  #Тестовое поле описания опыта The test field of the experience description\n",
        "  },\n",
        "  {\n",
        "  'id': '685e5a6a000cgkgyuul6d4e',\n",
        "  'last_name': None,\n",
        "  'first_name': None,\n",
        "  'middle_name': None,\n",
        "  'title': 'A novice specialist', #'Начинающий специалист A novice specialist'\n",
        " 'experience': [{'start': '2023-06-02',\n",
        "                 'end': '2023-08-02',\n",
        "                 'company': 'Smoky Bro',\n",
        "                 'company_id': '1898857',\n",
        "                 'industry': None,\n",
        "                 'industries': [],\n",
        "                 'area': None, 'company_url': None,\n",
        "                 'employer': {'id': '4839077', 'name': 'Smoky Bro', 'url': 'https://api.hh.ru/employers/4839077', 'alternate_url': 'https://hh.ru/employer/4839077', 'logo_urls': None},\n",
        "                 'position': 'Продавец',\n",
        "                 'description': 'The test field of the experience description'}],  #Тестовое поле описания опыта The test field of the experience description\n",
        "  }\n",
        "              ]"
      ],
      "metadata": {
        "id": "DvaqZxJOS6kQ"
      },
      "execution_count": null,
      "outputs": []
    },
    {
      "cell_type": "code",
      "source": [
        "for resume in resumes_json:\n",
        "    if search_english_resume(resume):\n",
        "        print(f\"skip EN resume {resume['id']}\")\n",
        "        #continue\n"
      ],
      "metadata": {
        "colab": {
          "base_uri": "https://localhost:8080/"
        },
        "id": "Mcder__fQ1ln",
        "outputId": "ba6e681b-4b6a-4cdd-f0ab-761579ddee2c"
      },
      "execution_count": null,
      "outputs": [
        {
          "output_type": "stream",
          "name": "stdout",
          "text": [
            "Начинающий специалист Продавец Тестовое поле описания опыта\n",
            "A novice specialist Продавец The test field of the experience description\n",
            "skip EN resume 685e5a6a000cgkgyuul6d4e\n"
          ]
        }
      ]
    },
    {
      "cell_type": "markdown",
      "source": [
        "# Вариант с 50%, если больше 50% то на английском"
      ],
      "metadata": {
        "id": "f4zDUGuH9ws9"
      }
    },
    {
      "cell_type": "code",
      "source": [
        "import re\n",
        "\n",
        "def detect_language_by_alphabet(text: str) -> str:\n",
        "    \"\"\"\n",
        "    Определяем язык текста по количеству символов кириллицы и латиницы.\n",
        "    Возвращает 'ru', 'en' или 'unknown'.\n",
        "    \"\"\"\n",
        "    text = text.lower()\n",
        "    count_rus = len(re.findall(r\"[а-яё]\", text))\n",
        "    count_eng = len(re.findall(r\"[a-z]\", text))\n",
        "    if count_rus > count_eng:\n",
        "        return \"rus\"\n",
        "    elif count_eng > count_rus:\n",
        "        return \"eng\"\n",
        "    else:\n",
        "        return \"unknown\"\n",
        "\n",
        "\n",
        "def is_english_resume(resume_json: dict) -> bool:\n",
        "    \"\"\"\n",
        "    Определение, резюме на английском.\n",
        "    Возвращает True, если латинских букв больше, чем кириллических.\n",
        "    \"\"\"\n",
        "    text_fields = []\n",
        "\n",
        "    if \"title\" in resume_json and resume_json[\"title\"]:\n",
        "        text_fields.append(resume_json[\"title\"])\n",
        "\n",
        "    if \"experience\" in resume_json:\n",
        "        for job in resume_json[\"experience\"]:\n",
        "            if \"position\" in job and job[\"position\"]:\n",
        "                text_fields.append(job[\"position\"])\n",
        "            if \"description\" in job and job[\"description\"]:\n",
        "                text_fields.append(job[\"description\"])\n",
        "\n",
        "    full_text = \" \".join([t for t in text_fields if t])\n",
        "\n",
        "    if not full_text.strip():\n",
        "        return False\n",
        "\n",
        "    lang = detect_language_by_alphabet(full_text)\n",
        "    if lang == \"eng\":\n",
        "      print('Текст резюме на английском : ', full_text)\n",
        "    return lang == \"eng\""
      ],
      "metadata": {
        "id": "2putaYys96mk"
      },
      "execution_count": 29,
      "outputs": []
    },
    {
      "cell_type": "code",
      "source": [
        "resumes_test = [\n",
        "    {\n",
        "        'id': '1',\n",
        "        'title': 'Начинающий специалист',\n",
        "        'experience': [\n",
        "            {'position': 'Продавец', 'description': 'Тестовое поле описания опыта'}\n",
        "        ]\n",
        "    },\n",
        "    {\n",
        "        'id': '2',\n",
        "        'title': 'Junior Specialist',\n",
        "        'experience': [\n",
        "            {'position': 'Sales Manager', 'description': 'Worked with clients and increased sales'}\n",
        "        ]\n",
        "    },\n",
        "    {\n",
        "        'id': '3',\n",
        "        'title': 'Менеджер Manager',\n",
        "        'experience': [\n",
        "            {'position': 'Administrator', 'description': 'Работал с документацией'}\n",
        "        ]\n",
        "    },\n",
        "    {\n",
        "        'id': '4',\n",
        "        'title': 'Администратор',\n",
        "        'experience': []\n",
        "    },\n",
        "    {\n",
        "        'id': '5',\n",
        "        'title': '',\n",
        "        'experience': []\n",
        "    },\n",
        "    {\n",
        "        'id': '5',\n",
        "        'title': 'Бармен',\n",
        "        'experience': []\n",
        "    },\n",
        "    {\n",
        "    \"id\": \"6\",\n",
        "    \"title\": \"Старший аналитик данных\",\n",
        "    \"experience\": [\n",
        "        {\n",
        "            \"position\": \"Аналитик данных\",\n",
        "            \"description\": (\n",
        "                \"Разрабатывал и поддерживал системы сбора и обработки больших данных с использованием Apache Spark и Airflow. \"\n",
        "                \"Оптимизировал SQL-запросы и создавал ETL-процессы для аналитических систем и моделей машинного обучения. \"\n",
        "                \"Работал в кросс-функциональных командах, участвовал в проектировании архитектуры данных, \"\n",
        "                \"обеспечивая высокую доступность и масштабируемость. \"\n",
        "                \"Имеется опыт работы с облачными платформами (AWS, GCP) и автоматизацией CI/CD.\"\n",
        "            )\n",
        "        },\n",
        "        {\n",
        "            \"position\": \"Разработчик Python\",\n",
        "            \"description\": (\n",
        "                \"Создавал внутренние сервисы и API на Python и FastAPI. \"\n",
        "                \"Улучшил производительность приложений на 30% за счёт оптимизации и рефакторинга кода. \"\n",
        "                \"Реализовал автоматическое тестирование, интегрировал системы логирования и мониторинга.\"\n",
        "            )\n",
        "        }\n",
        "    ]\n",
        "},\n",
        "  {\n",
        "    \"id\": \"7\",\n",
        "    \"title\": \"Senior Data Engineer\",\n",
        "    \"experience\": [\n",
        "        {\n",
        "            \"position\": \"Data Engineer\",\n",
        "            \"description\": (\n",
        "                \"Developed and maintained large-scale data pipelines using Apache Spark and Airflow. \"\n",
        "                \"Worked with distributed systems, optimized SQL queries, and implemented ETL processes \"\n",
        "                \"to support analytics and machine learning models. Collaborated with cross-functional teams \"\n",
        "                \"to design data architectures, ensuring high availability and scalability. \"\n",
        "                \"Experience in cloud platforms (AWS, GCP) and CI/CD automation.\"\n",
        "            )\n",
        "        },\n",
        "        {\n",
        "            \"position\": \"Python Developer\",\n",
        "            \"description\": (\n",
        "                \"Built internal tools and APIs using Python and FastAPI. \"\n",
        "                \"Improved application performance by 30% through code refactoring and optimization. \"\n",
        "                \"Implemented automated testing pipelines and integrated logging/monitoring systems.\"\n",
        "            )\n",
        "        }\n",
        "    ]\n",
        "}\n",
        "]"
      ],
      "metadata": {
        "id": "6kgSYTTz-OVs"
      },
      "execution_count": 30,
      "outputs": []
    },
    {
      "cell_type": "code",
      "source": [
        "for resume in resumes_test:\n",
        "    if is_english_resume(resume):\n",
        "        print(f\"skip EN resume {resume['id']}\")\n",
        "    else:\n",
        "        print(f\"accept RU resume {resume['id']}\")"
      ],
      "metadata": {
        "colab": {
          "base_uri": "https://localhost:8080/"
        },
        "id": "hYuCyz5D-Q10",
        "outputId": "1f6b59a3-b7fa-4475-8020-fa2f7ae44476"
      },
      "execution_count": 31,
      "outputs": [
        {
          "output_type": "stream",
          "name": "stdout",
          "text": [
            "accept RU resume 1\n",
            "Текст резюме на английском :  Junior Specialist Sales Manager Worked with clients and increased sales\n",
            "skip EN resume 2\n",
            "accept RU resume 3\n",
            "accept RU resume 4\n",
            "accept RU resume 5\n",
            "accept RU resume 5\n",
            "accept RU resume 6\n",
            "Текст резюме на английском :  Senior Data Engineer Data Engineer Developed and maintained large-scale data pipelines using Apache Spark and Airflow. Worked with distributed systems, optimized SQL queries, and implemented ETL processes to support analytics and machine learning models. Collaborated with cross-functional teams to design data architectures, ensuring high availability and scalability. Experience in cloud platforms (AWS, GCP) and CI/CD automation. Python Developer Built internal tools and APIs using Python and FastAPI. Improved application performance by 30% through code refactoring and optimization. Implemented automated testing pipelines and integrated logging/monitoring systems.\n",
            "skip EN resume 7\n"
          ]
        }
      ]
    },
    {
      "cell_type": "markdown",
      "source": [
        "# Итоговая функция, с использованием регулярок. Если больше 80%, то текст на англ"
      ],
      "metadata": {
        "id": "FYzEgciWamBw"
      }
    },
    {
      "cell_type": "code",
      "source": [
        "import re\n",
        "\n",
        "def detect_language_by_alphabet(text: str) -> str:\n",
        "    \"\"\"\n",
        "    Определяем язык текста по количеству символов кириллицы и латиницы.\n",
        "    Возвращает 'ru', 'en' или 'unknown'.\n",
        "    \"\"\"\n",
        "    text = text.lower()\n",
        "    count_rus = len(re.findall(r\"[а-яё]\", text))\n",
        "    count_eng = len(re.findall(r\"[a-z]\", text))\n",
        "    count_all = len(re.findall(r\"[а-яёa-z]\", text))\n",
        "\n",
        "    if count_all == 0:\n",
        "      return \"Unknow\"\n",
        "    elif count_eng/count_all >= 0.8:\n",
        "        return \"eng\"\n",
        "    else:\n",
        "      return \"rus\"\n",
        "\n",
        "\n",
        "\n",
        "def is_english_resume(resume_json: dict) -> bool:\n",
        "    \"\"\"\n",
        "    Определение, резюме на английском.\n",
        "    Возвращает True, если латинских букв больше, чем кириллических.\n",
        "    \"\"\"\n",
        "    text_fields = []\n",
        "\n",
        "    if \"title\" in resume_json and resume_json[\"title\"]:\n",
        "        text_fields.append(resume_json[\"title\"])\n",
        "\n",
        "    if \"experience\" in resume_json:\n",
        "        for job in resume_json[\"experience\"]:\n",
        "            if \"position\" in job and job[\"position\"]:\n",
        "                text_fields.append(job[\"position\"])\n",
        "            if \"description\" in job and job[\"description\"]:\n",
        "                text_fields.append(job[\"description\"])\n",
        "\n",
        "    full_text = \" \".join([t for t in text_fields if t])\n",
        "\n",
        "    if not full_text.strip():\n",
        "        return False\n",
        "\n",
        "    lang = detect_language_by_alphabet(full_text)\n",
        "    if lang == \"eng\":\n",
        "      print('Текст резюме на английском: ', full_text)\n",
        "    if lang == \"rus\":\n",
        "      print('Текст резюме на русском: ', full_text)\n",
        "    return lang == \"eng\""
      ],
      "metadata": {
        "id": "85BEdzJbbZQI"
      },
      "execution_count": 34,
      "outputs": []
    },
    {
      "cell_type": "code",
      "source": [
        "resumes_test = [\n",
        "    {\n",
        "        'id': '1',\n",
        "        'title': 'Начинающий специалист',\n",
        "        'experience': [\n",
        "            {'position': 'Продавец', 'description': 'Тестовое поле описания опыта'}\n",
        "        ]\n",
        "    },\n",
        "    {\n",
        "        'id': '2',\n",
        "        'title': 'Junior Specialist',\n",
        "        'experience': [\n",
        "            {'position': 'Sales Manager', 'description': 'Worked with clients and increased sales'}\n",
        "        ]\n",
        "    },\n",
        "    {\n",
        "        'id': '3',\n",
        "        'title': 'Менеджер Manager',\n",
        "        'experience': [\n",
        "            {'position': 'Administrator', 'description': 'Работал с документацией'}\n",
        "        ]\n",
        "    },\n",
        "    {\n",
        "        'id': '4',\n",
        "        'title': 'Администратор',\n",
        "        'experience': []\n",
        "    },\n",
        "    {\n",
        "        'id': '5',\n",
        "        'title': '',\n",
        "        'experience': []\n",
        "    },\n",
        "    {\n",
        "        'id': '6',\n",
        "        'title': 'Бармен',\n",
        "        'experience': []\n",
        "    },\n",
        "    {\n",
        "    \"id\": \"7\",\n",
        "    \"title\": \"Старший аналитик данных\",\n",
        "    \"experience\": [\n",
        "        {\n",
        "            \"position\": \"Аналитик данных\",\n",
        "            \"description\": (\n",
        "                \"Разрабатывал и поддерживал системы сбора и обработки больших данных с использованием Apache Spark и Airflow. \"\n",
        "                \"Оптимизировал SQL-запросы и создавал ETL-процессы для аналитических систем и моделей машинного обучения. \"\n",
        "                \"Работал в кросс-функциональных командах, участвовал в проектировании архитектуры данных, \"\n",
        "                \"обеспечивая высокую доступность и масштабируемость. \"\n",
        "                \"Имеется опыт работы с облачными платформами (AWS, GCP) и автоматизацией CI/CD.\"\n",
        "            )\n",
        "        },\n",
        "        {\n",
        "            \"position\": \"Разработчик Python\",\n",
        "            \"description\": (\n",
        "                \"Создавал внутренние сервисы и API на Python и FastAPI. \"\n",
        "                \"Улучшил производительность приложений на 30% за счёт оптимизации и рефакторинга кода. \"\n",
        "                \"Реализовал автоматическое тестирование, интегрировал системы логирования и мониторинга.\"\n",
        "            )\n",
        "        }\n",
        "    ]\n",
        "},\n",
        "  {\n",
        "    \"id\": \"8\",\n",
        "    \"title\": \"Senior Data Engineer\",\n",
        "    \"experience\":\n",
        "    [\n",
        "        {\n",
        "            \"position\": \"Data Engineer\",\n",
        "            \"description\": (\n",
        "                \"Developed and maintained large-scale data pipelines using Apache Spark and Airflow. \"\n",
        "                \"Worked with distributed systems, optimized SQL queries, and implemented ETL processes \"\n",
        "                \"to support analytics and machine learning models. Collaborated with cross-functional teams \"\n",
        "                \"to design data architectures, ensuring high availability and scalability. \"\n",
        "                \"Experience in cloud platforms (AWS, GCP) and CI/CD automation.\"\n",
        "            )\n",
        "        },\n",
        "        {\n",
        "            \"position\": \"Python Developer\",\n",
        "            \"description\": (\n",
        "                \"Built internal tools and APIs using Python and FastAPI. \"\n",
        "                \"Improved application performance by 30% through code refactoring and optimization. \"\n",
        "                \"Implemented automated testing pipelines and integrated logging/monitoring systems.\"\n",
        "            )\n",
        "        }\n",
        "        ]\n",
        "    },\n",
        "    {\n",
        "    'id': '9',\n",
        "    'title': 'Менеджер Manager',\n",
        "    'experience': [\n",
        "        {'position': 'Administrator', 'description': ''}]\n",
        "    }\n",
        "]\n"
      ],
      "metadata": {
        "id": "YyxTVICyb9uR"
      },
      "execution_count": 35,
      "outputs": []
    },
    {
      "cell_type": "code",
      "source": [
        "for resume in resumes_test:\n",
        "    if is_english_resume(resume):\n",
        "        print(f\"skip EN resume {resume['id']}\\n\")\n",
        "    else:\n",
        "        print(f\"accept RU resume {resume['id']}\\n\")\n"
      ],
      "metadata": {
        "colab": {
          "base_uri": "https://localhost:8080/"
        },
        "id": "1kisDOY0bdnf",
        "outputId": "252ced4e-5746-4edb-8f7c-910c21dff79d"
      },
      "execution_count": 36,
      "outputs": [
        {
          "output_type": "stream",
          "name": "stdout",
          "text": [
            "Текст резюме на русском:  Начинающий специалист Продавец Тестовое поле описания опыта\n",
            "accept RU resume 1\n",
            "\n",
            "Текст резюме на английском:  Junior Specialist Sales Manager Worked with clients and increased sales\n",
            "skip EN resume 2\n",
            "\n",
            "Текст резюме на русском:  Менеджер Manager Administrator Работал с документацией\n",
            "accept RU resume 3\n",
            "\n",
            "Текст резюме на русском:  Администратор\n",
            "accept RU resume 4\n",
            "\n",
            "accept RU resume 5\n",
            "\n",
            "Текст резюме на русском:  Бармен\n",
            "accept RU resume 6\n",
            "\n",
            "Текст резюме на русском:  Старший аналитик данных Аналитик данных Разрабатывал и поддерживал системы сбора и обработки больших данных с использованием Apache Spark и Airflow. Оптимизировал SQL-запросы и создавал ETL-процессы для аналитических систем и моделей машинного обучения. Работал в кросс-функциональных командах, участвовал в проектировании архитектуры данных, обеспечивая высокую доступность и масштабируемость. Имеется опыт работы с облачными платформами (AWS, GCP) и автоматизацией CI/CD. Разработчик Python Создавал внутренние сервисы и API на Python и FastAPI. Улучшил производительность приложений на 30% за счёт оптимизации и рефакторинга кода. Реализовал автоматическое тестирование, интегрировал системы логирования и мониторинга.\n",
            "accept RU resume 7\n",
            "\n",
            "Текст резюме на английском:  Senior Data Engineer Data Engineer Developed and maintained large-scale data pipelines using Apache Spark and Airflow. Worked with distributed systems, optimized SQL queries, and implemented ETL processes to support analytics and machine learning models. Collaborated with cross-functional teams to design data architectures, ensuring high availability and scalability. Experience in cloud platforms (AWS, GCP) and CI/CD automation. Python Developer Built internal tools and APIs using Python and FastAPI. Improved application performance by 30% through code refactoring and optimization. Implemented automated testing pipelines and integrated logging/monitoring systems.\n",
            "skip EN resume 8\n",
            "\n",
            "Текст резюме на русском:  Менеджер Manager Administrator\n",
            "accept RU resume 9\n",
            "\n"
          ]
        }
      ]
    },
    {
      "cell_type": "code",
      "source": [
        "# Промовская реализация цикла\n",
        "resumes_json = [{\n",
        "                'id': '10',\n",
        "                'title': 'Manager',\n",
        "                'experience': [\n",
        "                    {'position': 'Administrator', 'description': 'Test'}]\n",
        "                },\n",
        "                {\n",
        "                'id': '11',\n",
        "                'title': 'Менеджер',\n",
        "                'experience': [\n",
        "                    {'position': 'Administrator', 'description': 'Русское'}]\n",
        "                }\n",
        "                ]\n",
        "lst_rus = []\n",
        "for num_in_bucket in range(0, len(resumes_json)):\n",
        "  try:\n",
        "    if is_english_resume(resumes_json[num_in_bucket]):\n",
        "      print(f\"Резюме с id {resumes_json[num_in_bucket]['id']} на англ\")\n",
        "      continue\n",
        "    lst_rus.append(resumes_json[num_in_bucket]['id'])\n",
        "    print(f\"Резюме с id {resumes_json[num_in_bucket]['id']} на русском\")\n",
        "  except Exception as e:\n",
        "    print(f\"Ошибка {e}\")\n",
        "\n"
      ],
      "metadata": {
        "colab": {
          "base_uri": "https://localhost:8080/"
        },
        "id": "ezEMlHRY_9_2",
        "outputId": "e1a4de11-9379-4acd-f2d6-630eda06a1ed"
      },
      "execution_count": 44,
      "outputs": [
        {
          "output_type": "stream",
          "name": "stdout",
          "text": [
            "Текст резюме на английском:  Manager Administrator Test\n",
            "Резюме с id 10 на англ\n",
            "Текст резюме на русском:  Менеджер Administrator Русское\n",
            "Резюме с id 11 на русском\n"
          ]
        }
      ]
    },
    {
      "cell_type": "code",
      "source": [
        "lst_rus"
      ],
      "metadata": {
        "colab": {
          "base_uri": "https://localhost:8080/"
        },
        "id": "1_rGkseBF6yE",
        "outputId": "b14970fb-b425-48bf-fd2f-b0c87e82c8a5"
      },
      "execution_count": 45,
      "outputs": [
        {
          "output_type": "execute_result",
          "data": {
            "text/plain": [
              "['11']"
            ]
          },
          "metadata": {},
          "execution_count": 45
        }
      ]
    }
  ]
}